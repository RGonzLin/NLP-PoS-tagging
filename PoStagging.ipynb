{
 "cells": [
  {
   "cell_type": "markdown",
   "id": "248ec5cb",
   "metadata": {},
   "source": [
    "Rodrigo González Linares\n",
    "# Predict using pre-trained PoS tagging models\n",
    "Make predictions with the models trained for this assignment. Just paste the path of your dataset in the corresponding cell under the 'predictPath' variable and run. \n",
    "### PoS tagging model for the English language"
   ]
  },
  {
   "cell_type": "code",
   "execution_count": null,
   "id": "6f8be58f",
   "metadata": {},
   "outputs": [],
   "source": [
    "# Define path of prediction dataset\n",
    "predictPath = 'YOUR_PATH' # THIS NEEDS TO BE INTRODUCED BY USER!!!\n",
    "\n",
    "#-----------------------------------------------------------------------------\n",
    "\n",
    "# Import Necessary libraries\n",
    "import PoStagging \n",
    "import conllu\n",
    "import numpy as np\n",
    "import tensorflow as tf\n",
    "\n",
    "# Create instance of the 'PoStaggingModel' class\n",
    "EnglishPredict = PoStagging.PoStaggingModel() \n",
    "\n",
    "# Get sentences of prediction set from paths\n",
    "predictSentences = EnglishPredict.GetSentences(predictPath)\n",
    "\n",
    "# Recreate original tokenizer from the train set\n",
    "trainPath = 'en_ewt-ud-train.conllu'\n",
    "trainSentences = EnglishPredict.GetSentences(trainPath)\n",
    "inputTrain = EnglishPredict.InputEncoding(trainSentences,trainSet=True)\n",
    "\n",
    "# Encode inputs for prediction sets\n",
    "inputPredict = EnglishPredict.InputEncoding(predictSentences,predictSet=True)\n",
    "\n",
    "# Load model\n",
    "EnglishPredict.Load('English.h5')\n",
    "\n",
    "# Predict using model\n",
    "predictionsEnglish = EnglishPredict.Predict(inputPredict,prunePadding=True)\n",
    "\n",
    "# Print some of the predictions\n",
    "print(predictionsEnglish[0:10])"
   ]
  },
  {
   "cell_type": "markdown",
   "id": "9306b060",
   "metadata": {},
   "source": [
    "### PoS tagging model for the Dutch language"
   ]
  },
  {
   "cell_type": "code",
   "execution_count": null,
   "id": "4e678ce3",
   "metadata": {},
   "outputs": [],
   "source": [
    "# Define path of prediction dataset for \n",
    "predictPath = 'YOUR_PATH' # THIS NEEDS TO BE INTRODUCED BY USER!!!\n",
    "\n",
    "#-----------------------------------------------------------------------------\n",
    "\n",
    "# Import Necessary libraries\n",
    "import PoStagging \n",
    "import conllu\n",
    "import numpy as np\n",
    "import tensorflow as tf\n",
    "\n",
    "# Create instance of the 'PoStaggingModel' class\n",
    "DutchPredict = PoStagging.PoStaggingModel() \n",
    "\n",
    "# Get sentences of prediction set from paths\n",
    "predictSentences = DutchPredict.GetSentences(predictPath)\n",
    "\n",
    "# Recreate original tokenizer from the train set\n",
    "trainPath = 'nl_alpino-ud-train.conllu'\n",
    "trainSentences = DutchPredict.GetSentences(trainPath)\n",
    "inputTrain = DutchPredict.InputEncoding(trainSentences,trainSet=True)\n",
    "\n",
    "# Encode inputs for prediction sets\n",
    "inputPredict = DutchPredict.InputEncoding(predictSentences,predictSet=True)\n",
    "\n",
    "# Load model\n",
    "DutchPredict.Load('Dutch.h5')\n",
    "\n",
    "# Predict using model\n",
    "predictionsDutch = DutchPredict.Predict(inputPredict,prunePadding=True)\n",
    "\n",
    "# Print some of the predictions\n",
    "print(predictionsDutch[0:10])"
   ]
  },
  {
   "cell_type": "markdown",
   "id": "6fb0322c",
   "metadata": {},
   "source": [
    "### PoS tagging model for the Irish language"
   ]
  },
  {
   "cell_type": "code",
   "execution_count": null,
   "id": "302e69e1",
   "metadata": {},
   "outputs": [],
   "source": [
    "# Define path of prediction dataset for \n",
    "predictPath = 'YOUR_PATH' # THIS NEEDS TO BE INTRODUCED BY USER!!!\n",
    "\n",
    "#-----------------------------------------------------------------------------\n",
    "\n",
    "# Import Necessary libraries\n",
    "import PoStagging \n",
    "import conllu\n",
    "import numpy as np\n",
    "import tensorflow as tf\n",
    "\n",
    "# Create instance of the 'PoStaggingModel' class\n",
    "IrishPredict = PoStagging.PoStaggingModel() \n",
    "\n",
    "# Get sentences of prediction set from paths\n",
    "predictSentences = IrishPredict.GetSentences(predictPath)\n",
    "\n",
    "# Recreate original tokenizer from the train set\n",
    "trainPath = 'ga_idt-ud-train.conllu'\n",
    "trainSentences = IrishPredict.GetSentences(trainPath)\n",
    "inputTrain = IrishPredict.InputEncoding(trainSentences,trainSet=True)\n",
    "\n",
    "# Encode inputs for prediction sets\n",
    "inputPredict = IrishPredict.InputEncoding(predictSentences,predictSet=True)\n",
    "\n",
    "# Load model\n",
    "IrishPredict.Load('Irish.h5')\n",
    "\n",
    "# Predict using model\n",
    "predictionsIrish = IrishPredict.Predict(inputPredict,prunePadding=True)\n",
    "\n",
    "# Print some of the predictions\n",
    "print(predictionsIrish[0:10])"
   ]
  },
  {
   "cell_type": "markdown",
   "id": "ea50a8a9",
   "metadata": {},
   "source": [
    "# Model creation and training\n",
    "\n",
    "### PoS tagging model for the English language"
   ]
  },
  {
   "cell_type": "code",
   "execution_count": 1,
   "id": "4d886cb1",
   "metadata": {},
   "outputs": [],
   "source": [
    "# Import Necessary libraries\n",
    "import PoStagging \n",
    "import conllu\n",
    "import numpy as np\n",
    "import tensorflow as tf"
   ]
  },
  {
   "cell_type": "code",
   "execution_count": 2,
   "id": "4b08c1b7",
   "metadata": {},
   "outputs": [],
   "source": [
    "# Define paths\n",
    "trainPath = 'en_ewt-ud-train.conllu'\n",
    "validationPath = 'en_ewt-ud-dev.conllu'\n",
    "testPath = 'en_ewt-ud-test.conllu'"
   ]
  },
  {
   "cell_type": "code",
   "execution_count": 3,
   "id": "f0b9d0a9",
   "metadata": {
    "scrolled": false
   },
   "outputs": [
    {
     "name": "stdout",
     "output_type": "stream",
     "text": [
      "Metal device set to: Apple M2\n"
     ]
    },
    {
     "name": "stderr",
     "output_type": "stream",
     "text": [
      "2022-11-16 13:24:44.950399: I tensorflow/core/common_runtime/pluggable_device/pluggable_device_factory.cc:306] Could not identify NUMA node of platform GPU ID 0, defaulting to 0. Your kernel may not have been built with NUMA support.\n",
      "2022-11-16 13:24:44.950516: I tensorflow/core/common_runtime/pluggable_device/pluggable_device_factory.cc:272] Created TensorFlow device (/job:localhost/replica:0/task:0/device:GPU:0 with 0 MB memory) -> physical PluggableDevice (device: 0, name: METAL, pci bus id: <undefined>)\n"
     ]
    },
    {
     "name": "stdout",
     "output_type": "stream",
     "text": [
      "Model: \"model\"\n",
      "_________________________________________________________________\n",
      " Layer (type)                Output Shape              Param #   \n",
      "=================================================================\n",
      " input_1 (InputLayer)        [(None, 128)]             0         \n",
      "                                                                 \n",
      " embedding (Embedding)       (None, 128, 64)           1095424   \n",
      "                                                                 \n",
      " bidirectional (Bidirectiona  (None, 128, 256)         197632    \n",
      " l)                                                              \n",
      "                                                                 \n",
      " time_distributed (TimeDistr  (None, 128, 17)          4369      \n",
      " ibuted)                                                         \n",
      "                                                                 \n",
      "=================================================================\n",
      "Total params: 1,297,425\n",
      "Trainable params: 1,297,425\n",
      "Non-trainable params: 0\n",
      "_________________________________________________________________\n",
      "None\n",
      "Epoch 1/5\n"
     ]
    },
    {
     "name": "stderr",
     "output_type": "stream",
     "text": [
      "2022-11-16 13:24:45.996879: W tensorflow/core/platform/profile_utils/cpu_utils.cc:128] Failed to get CPU frequency: 0 Hz\n",
      "2022-11-16 13:24:48.750629: I tensorflow/core/grappler/optimizers/custom_graph_optimizer_registry.cc:114] Plugin optimizer for device_type GPU is enabled.\n",
      "2022-11-16 13:24:49.078691: W tensorflow/core/common_runtime/forward_type_inference.cc:332] Type inference failed. This indicates an invalid graph that escaped type checking. Error message: INVALID_ARGUMENT: expected compatible input types, but input 1:\n",
      "type_id: TFT_OPTIONAL\n",
      "args {\n",
      "  type_id: TFT_PRODUCT\n",
      "  args {\n",
      "    type_id: TFT_TENSOR\n",
      "    args {\n",
      "      type_id: TFT_INT32\n",
      "    }\n",
      "  }\n",
      "}\n",
      " is neither a subtype nor a supertype of the combined inputs preceding it:\n",
      "type_id: TFT_OPTIONAL\n",
      "args {\n",
      "  type_id: TFT_PRODUCT\n",
      "  args {\n",
      "    type_id: TFT_TENSOR\n",
      "    args {\n",
      "      type_id: TFT_FLOAT\n",
      "    }\n",
      "  }\n",
      "}\n",
      "\n",
      "\twhile inferring type of node 'cond_42/output/_24'\n",
      "2022-11-16 13:24:49.082069: I tensorflow/core/grappler/optimizers/custom_graph_optimizer_registry.cc:114] Plugin optimizer for device_type GPU is enabled.\n",
      "2022-11-16 13:24:49.178959: I tensorflow/core/grappler/optimizers/custom_graph_optimizer_registry.cc:114] Plugin optimizer for device_type GPU is enabled.\n",
      "2022-11-16 13:24:49.525854: I tensorflow/core/grappler/optimizers/custom_graph_optimizer_registry.cc:114] Plugin optimizer for device_type GPU is enabled.\n",
      "2022-11-16 13:24:49.631252: I tensorflow/core/grappler/optimizers/custom_graph_optimizer_registry.cc:114] Plugin optimizer for device_type GPU is enabled.\n"
     ]
    },
    {
     "name": "stdout",
     "output_type": "stream",
     "text": [
      "392/392 [==============================] - ETA: 0s - loss: 0.1533 - accuracy: 0.6226"
     ]
    },
    {
     "name": "stderr",
     "output_type": "stream",
     "text": [
      "2022-11-16 13:25:27.859330: I tensorflow/core/grappler/optimizers/custom_graph_optimizer_registry.cc:114] Plugin optimizer for device_type GPU is enabled.\n",
      "2022-11-16 13:25:28.027345: I tensorflow/core/grappler/optimizers/custom_graph_optimizer_registry.cc:114] Plugin optimizer for device_type GPU is enabled.\n",
      "2022-11-16 13:25:28.069076: I tensorflow/core/grappler/optimizers/custom_graph_optimizer_registry.cc:114] Plugin optimizer for device_type GPU is enabled.\n"
     ]
    },
    {
     "name": "stdout",
     "output_type": "stream",
     "text": [
      "392/392 [==============================] - 45s 106ms/step - loss: 0.1533 - accuracy: 0.6226 - val_loss: 0.0423 - val_accuracy: 0.8527\n",
      "Epoch 2/5\n",
      "392/392 [==============================] - 39s 100ms/step - loss: 0.0366 - accuracy: 0.9002 - val_loss: 0.0298 - val_accuracy: 0.8886\n",
      "Epoch 3/5\n",
      "392/392 [==============================] - 39s 100ms/step - loss: 0.0229 - accuracy: 0.9315 - val_loss: 0.0287 - val_accuracy: 0.8921\n",
      "Epoch 4/5\n",
      "392/392 [==============================] - 39s 100ms/step - loss: 0.0174 - accuracy: 0.9435 - val_loss: 0.0264 - val_accuracy: 0.8986\n",
      "Epoch 5/5\n",
      "392/392 [==============================] - 39s 100ms/step - loss: 0.0143 - accuracy: 0.9500 - val_loss: 0.0271 - val_accuracy: 0.8999\n"
     ]
    },
    {
     "data": {
      "text/plain": [
       "<keras.callbacks.History at 0x2850a60a0>"
      ]
     },
     "execution_count": 3,
     "metadata": {},
     "output_type": "execute_result"
    }
   ],
   "source": [
    "# Create instance of the 'PoStaggingModel' class\n",
    "English = PoStagging.PoStaggingModel() \n",
    "\n",
    "# Get sentences from paths\n",
    "trainSentences = English.GetSentences(trainPath)\n",
    "validationSentences = English.GetSentences(validationPath)\n",
    "testSentences = English.GetSentences(testPath)\n",
    "\n",
    "# Encode inputs and targets for train and validation sets\n",
    "inputTrain = English.InputEncoding(trainSentences,trainSet=True)\n",
    "targetTrain = English.TargetEncoding(trainSentences)\n",
    "inputValidation = English.InputEncoding(validationSentences)\n",
    "targetValidation = English.TargetEncoding(validationSentences)\n",
    "inputTest = English.InputEncoding(testSentences)\n",
    "targetTest = English.TargetEncoding(testSentences)\n",
    "\n",
    "# Create PoS tagging model\n",
    "English.CreateModel(printSummary=True,lstmUnits=128,embeddingSize=64,dropout=0.4)\n",
    "\n",
    "# Train model \n",
    "English.Train(inputTrain,targetTrain,\n",
    "                      inputValidation=inputValidation,targetValidation=targetValidation,epochs=5,\n",
    "                     optimizer=tf.keras.optimizers.Adam(learning_rate=8e-4))"
   ]
  },
  {
   "cell_type": "code",
   "execution_count": 4,
   "id": "e982f11f",
   "metadata": {},
   "outputs": [
    {
     "name": "stdout",
     "output_type": "stream",
     "text": [
      "65/65 [==============================] - 3s 48ms/step - loss: 0.0243 - accuracy: 0.9022\n"
     ]
    },
    {
     "data": {
      "text/plain": [
       "[0.024281509220600128, 0.9022042155265808]"
      ]
     },
     "execution_count": 4,
     "metadata": {},
     "output_type": "execute_result"
    }
   ],
   "source": [
    "# Test model\n",
    "English.Test(inputTest,targetTest)"
   ]
  },
  {
   "cell_type": "code",
   "execution_count": 5,
   "id": "8cd114ff",
   "metadata": {},
   "outputs": [],
   "source": [
    "# Save model\n",
    "English.Save('English.h5') "
   ]
  },
  {
   "cell_type": "markdown",
   "id": "b43486ab",
   "metadata": {},
   "source": [
    "### PoS tagging model for the Dutch language"
   ]
  },
  {
   "cell_type": "code",
   "execution_count": 6,
   "id": "60819e6d",
   "metadata": {},
   "outputs": [],
   "source": [
    "# Define paths\n",
    "trainPath = 'nl_alpino-ud-train.conllu'\n",
    "validationPath = 'nl_alpino-ud-dev.conllu'\n",
    "testPath = 'nl_alpino-ud-test.conllu'"
   ]
  },
  {
   "cell_type": "code",
   "execution_count": 8,
   "id": "87727ae6",
   "metadata": {},
   "outputs": [
    {
     "name": "stdout",
     "output_type": "stream",
     "text": [
      "Model: \"model_2\"\n",
      "_________________________________________________________________\n",
      " Layer (type)                Output Shape              Param #   \n",
      "=================================================================\n",
      " input_3 (InputLayer)        [(None, 128)]             0         \n",
      "                                                                 \n",
      " embedding_2 (Embedding)     (None, 128, 64)           1608000   \n",
      "                                                                 \n",
      " bidirectional_2 (Bidirectio  (None, 128, 256)         197632    \n",
      " nal)                                                            \n",
      "                                                                 \n",
      " time_distributed_2 (TimeDis  (None, 128, 17)          4369      \n",
      " tributed)                                                       \n",
      "                                                                 \n",
      "=================================================================\n",
      "Total params: 1,810,001\n",
      "Trainable params: 1,810,001\n",
      "Non-trainable params: 0\n",
      "_________________________________________________________________\n",
      "None\n",
      "Epoch 1/5\n"
     ]
    },
    {
     "name": "stderr",
     "output_type": "stream",
     "text": [
      "2022-11-16 13:35:58.869861: I tensorflow/core/grappler/optimizers/custom_graph_optimizer_registry.cc:114] Plugin optimizer for device_type GPU is enabled.\n",
      "2022-11-16 13:35:59.233341: I tensorflow/core/grappler/optimizers/custom_graph_optimizer_registry.cc:114] Plugin optimizer for device_type GPU is enabled.\n",
      "2022-11-16 13:35:59.336582: I tensorflow/core/grappler/optimizers/custom_graph_optimizer_registry.cc:114] Plugin optimizer for device_type GPU is enabled.\n",
      "2022-11-16 13:35:59.723743: I tensorflow/core/grappler/optimizers/custom_graph_optimizer_registry.cc:114] Plugin optimizer for device_type GPU is enabled.\n",
      "2022-11-16 13:35:59.833386: I tensorflow/core/grappler/optimizers/custom_graph_optimizer_registry.cc:114] Plugin optimizer for device_type GPU is enabled.\n"
     ]
    },
    {
     "name": "stdout",
     "output_type": "stream",
     "text": [
      "385/385 [==============================] - ETA: 0s - loss: 0.1459 - accuracy: 0.6190"
     ]
    },
    {
     "name": "stderr",
     "output_type": "stream",
     "text": [
      "2022-11-16 13:36:40.261884: I tensorflow/core/grappler/optimizers/custom_graph_optimizer_registry.cc:114] Plugin optimizer for device_type GPU is enabled.\n",
      "2022-11-16 13:36:40.427007: I tensorflow/core/grappler/optimizers/custom_graph_optimizer_registry.cc:114] Plugin optimizer for device_type GPU is enabled.\n",
      "2022-11-16 13:36:40.469311: I tensorflow/core/grappler/optimizers/custom_graph_optimizer_registry.cc:114] Plugin optimizer for device_type GPU is enabled.\n"
     ]
    },
    {
     "name": "stdout",
     "output_type": "stream",
     "text": [
      "385/385 [==============================] - 46s 109ms/step - loss: 0.1459 - accuracy: 0.6190 - val_loss: 0.0636 - val_accuracy: 0.8450\n",
      "Epoch 2/5\n",
      "385/385 [==============================] - 39s 103ms/step - loss: 0.0358 - accuracy: 0.9089 - val_loss: 0.0388 - val_accuracy: 0.8981\n",
      "Epoch 3/5\n",
      "385/385 [==============================] - 39s 102ms/step - loss: 0.0198 - accuracy: 0.9504 - val_loss: 0.0342 - val_accuracy: 0.9106\n",
      "Epoch 4/5\n",
      "385/385 [==============================] - 40s 103ms/step - loss: 0.0133 - accuracy: 0.9660 - val_loss: 0.0353 - val_accuracy: 0.9045\n",
      "Epoch 5/5\n",
      "385/385 [==============================] - 40s 103ms/step - loss: 0.0103 - accuracy: 0.9726 - val_loss: 0.0334 - val_accuracy: 0.9152\n"
     ]
    },
    {
     "data": {
      "text/plain": [
       "<keras.callbacks.History at 0x176bf1160>"
      ]
     },
     "execution_count": 8,
     "metadata": {},
     "output_type": "execute_result"
    }
   ],
   "source": [
    "# Create instance of the 'PoStaggingModel' class\n",
    "Dutch = PoStagging.PoStaggingModel() \n",
    "\n",
    "# Get sentences from paths\n",
    "trainSentences = Dutch.GetSentences(trainPath)\n",
    "validationSentences = Dutch.GetSentences(validationPath)\n",
    "testSentences = Dutch.GetSentences(testPath)\n",
    "\n",
    "# Encode inputs and targets for train and validation sets\n",
    "inputTrain = Dutch.InputEncoding(trainSentences,trainSet=True)\n",
    "targetTrain = Dutch.TargetEncoding(trainSentences)\n",
    "inputValidation = Dutch.InputEncoding(validationSentences)\n",
    "targetValidation = Dutch.TargetEncoding(validationSentences)\n",
    "inputTest = Dutch.InputEncoding(testSentences)\n",
    "targetTest = Dutch.TargetEncoding(testSentences)\n",
    "\n",
    "# Create PoS tagging model\n",
    "Dutch.CreateModel(printSummary=True,lstmUnits=128,embeddingSize=64,dropout=0.4)\n",
    "\n",
    "# Train model \n",
    "Dutch.Train(inputTrain,targetTrain,\n",
    "                      inputValidation=inputValidation,targetValidation=targetValidation,epochs=5,\n",
    "                     optimizer=tf.keras.optimizers.Adam(learning_rate=8e-4))"
   ]
  },
  {
   "cell_type": "code",
   "execution_count": 9,
   "id": "9d0f6433",
   "metadata": {},
   "outputs": [
    {
     "name": "stdout",
     "output_type": "stream",
     "text": [
      "19/19 [==============================] - 1s 61ms/step - loss: 0.0462 - accuracy: 0.8993\n"
     ]
    },
    {
     "data": {
      "text/plain": [
       "[0.04617725685238838, 0.8993033766746521]"
      ]
     },
     "execution_count": 9,
     "metadata": {},
     "output_type": "execute_result"
    }
   ],
   "source": [
    "# Test model\n",
    "Dutch.Test(inputTest,targetTest)"
   ]
  },
  {
   "cell_type": "code",
   "execution_count": 10,
   "id": "0f7d0097",
   "metadata": {},
   "outputs": [],
   "source": [
    "# Save model\n",
    "Dutch.Save('Dutch.h5') "
   ]
  },
  {
   "cell_type": "markdown",
   "id": "1691a17b",
   "metadata": {},
   "source": [
    "### PoS tagging model for the Irish language"
   ]
  },
  {
   "cell_type": "code",
   "execution_count": 11,
   "id": "287e4537",
   "metadata": {},
   "outputs": [],
   "source": [
    "# Define paths\n",
    "trainPath = 'ga_idt-ud-train.conllu'\n",
    "validationPath = 'ga_idt-ud-dev.conllu'\n",
    "testPath = 'ga_idt-ud-test.conllu'"
   ]
  },
  {
   "cell_type": "code",
   "execution_count": 12,
   "id": "ab1fe0d6",
   "metadata": {},
   "outputs": [
    {
     "name": "stdout",
     "output_type": "stream",
     "text": [
      "Model: \"model_3\"\n",
      "_________________________________________________________________\n",
      " Layer (type)                Output Shape              Param #   \n",
      "=================================================================\n",
      " input_4 (InputLayer)        [(None, 128)]             0         \n",
      "                                                                 \n",
      " embedding_3 (Embedding)     (None, 128, 64)           818368    \n",
      "                                                                 \n",
      " bidirectional_3 (Bidirectio  (None, 128, 256)         197632    \n",
      " nal)                                                            \n",
      "                                                                 \n",
      " time_distributed_3 (TimeDis  (None, 128, 17)          4369      \n",
      " tributed)                                                       \n",
      "                                                                 \n",
      "=================================================================\n",
      "Total params: 1,020,369\n",
      "Trainable params: 1,020,369\n",
      "Non-trainable params: 0\n",
      "_________________________________________________________________\n",
      "None\n",
      "Epoch 1/5\n"
     ]
    },
    {
     "name": "stderr",
     "output_type": "stream",
     "text": [
      "2022-11-16 13:39:26.955574: I tensorflow/core/grappler/optimizers/custom_graph_optimizer_registry.cc:114] Plugin optimizer for device_type GPU is enabled.\n",
      "2022-11-16 13:39:27.329388: I tensorflow/core/grappler/optimizers/custom_graph_optimizer_registry.cc:114] Plugin optimizer for device_type GPU is enabled.\n",
      "2022-11-16 13:39:27.441308: I tensorflow/core/grappler/optimizers/custom_graph_optimizer_registry.cc:114] Plugin optimizer for device_type GPU is enabled.\n",
      "2022-11-16 13:39:27.908748: I tensorflow/core/grappler/optimizers/custom_graph_optimizer_registry.cc:114] Plugin optimizer for device_type GPU is enabled.\n",
      "2022-11-16 13:39:28.024059: I tensorflow/core/grappler/optimizers/custom_graph_optimizer_registry.cc:114] Plugin optimizer for device_type GPU is enabled.\n"
     ]
    },
    {
     "name": "stdout",
     "output_type": "stream",
     "text": [
      "126/126 [==============================] - ETA: 0s - loss: 0.3930 - accuracy: 0.3707"
     ]
    },
    {
     "name": "stderr",
     "output_type": "stream",
     "text": [
      "2022-11-16 13:39:43.586620: I tensorflow/core/grappler/optimizers/custom_graph_optimizer_registry.cc:114] Plugin optimizer for device_type GPU is enabled.\n",
      "2022-11-16 13:39:43.753127: I tensorflow/core/grappler/optimizers/custom_graph_optimizer_registry.cc:114] Plugin optimizer for device_type GPU is enabled.\n",
      "2022-11-16 13:39:43.804712: I tensorflow/core/grappler/optimizers/custom_graph_optimizer_registry.cc:114] Plugin optimizer for device_type GPU is enabled.\n"
     ]
    },
    {
     "name": "stdout",
     "output_type": "stream",
     "text": [
      "126/126 [==============================] - 21s 133ms/step - loss: 0.3930 - accuracy: 0.3707 - val_loss: 0.2460 - val_accuracy: 0.6269\n",
      "Epoch 2/5\n",
      "126/126 [==============================] - 14s 111ms/step - loss: 0.1487 - accuracy: 0.7755 - val_loss: 0.0978 - val_accuracy: 0.8265\n",
      "Epoch 3/5\n",
      "126/126 [==============================] - 13s 107ms/step - loss: 0.0648 - accuracy: 0.9010 - val_loss: 0.0624 - val_accuracy: 0.8879\n",
      "Epoch 4/5\n",
      "126/126 [==============================] - 13s 107ms/step - loss: 0.0370 - accuracy: 0.9440 - val_loss: 0.0522 - val_accuracy: 0.9007\n",
      "Epoch 5/5\n",
      "126/126 [==============================] - 13s 107ms/step - loss: 0.0254 - accuracy: 0.9614 - val_loss: 0.0470 - val_accuracy: 0.9097\n"
     ]
    },
    {
     "data": {
      "text/plain": [
       "<keras.callbacks.History at 0x176637f10>"
      ]
     },
     "execution_count": 12,
     "metadata": {},
     "output_type": "execute_result"
    }
   ],
   "source": [
    "# Create instance of the 'PoStaggingModel' class\n",
    "Irish = PoStagging.PoStaggingModel() \n",
    "\n",
    "# Get sentences from paths\n",
    "trainSentences = Irish.GetSentences(trainPath)\n",
    "validationSentences = Irish.GetSentences(validationPath)\n",
    "testSentences = Irish.GetSentences(testPath)\n",
    "\n",
    "# Encode inputs and targets for train and validation sets\n",
    "inputTrain = Irish.InputEncoding(trainSentences,trainSet=True)\n",
    "targetTrain = Irish.TargetEncoding(trainSentences)\n",
    "inputValidation = Irish.InputEncoding(validationSentences)\n",
    "targetValidation = Irish.TargetEncoding(validationSentences)\n",
    "inputTest = Irish.InputEncoding(testSentences)\n",
    "targetTest = Irish.TargetEncoding(testSentences)\n",
    "\n",
    "# Create PoS tagging model\n",
    "Irish.CreateModel(printSummary=True,lstmUnits=128,embeddingSize=64,dropout=0.4)\n",
    "\n",
    "# Train model \n",
    "Irish.Train(inputTrain,targetTrain,\n",
    "                      inputValidation=inputValidation,targetValidation=targetValidation,epochs=5,\n",
    "                     optimizer=tf.keras.optimizers.Adam(learning_rate=8e-4))"
   ]
  },
  {
   "cell_type": "code",
   "execution_count": 13,
   "id": "81c2ecaf",
   "metadata": {},
   "outputs": [
    {
     "name": "stdout",
     "output_type": "stream",
     "text": [
      "15/15 [==============================] - 1s 65ms/step - loss: 0.0474 - accuracy: 0.9057\n"
     ]
    },
    {
     "data": {
      "text/plain": [
       "[0.047365907579660416, 0.9057134985923767]"
      ]
     },
     "execution_count": 13,
     "metadata": {},
     "output_type": "execute_result"
    }
   ],
   "source": [
    "# Test model\n",
    "Irish.Test(inputTest,targetTest)"
   ]
  },
  {
   "cell_type": "code",
   "execution_count": 14,
   "id": "59178cec",
   "metadata": {},
   "outputs": [],
   "source": [
    "# Save model\n",
    "Irish.Save('Irish.h5') "
   ]
  }
 ],
 "metadata": {
  "kernelspec": {
   "display_name": "Python 3 (ipykernel)",
   "language": "python",
   "name": "python3"
  },
  "language_info": {
   "codemirror_mode": {
    "name": "ipython",
    "version": 3
   },
   "file_extension": ".py",
   "mimetype": "text/x-python",
   "name": "python",
   "nbconvert_exporter": "python",
   "pygments_lexer": "ipython3",
   "version": "3.9.12"
  },
  "vscode": {
   "interpreter": {
    "hash": "31f2aee4e71d21fbe5cf8b01ff0e069b9275f58929596ceb00d14d90e3e16cd6"
   }
  }
 },
 "nbformat": 4,
 "nbformat_minor": 5
}
